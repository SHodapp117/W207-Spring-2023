{
  "cells": [
    {
      "cell_type": "markdown",
      "metadata": {
        "id": "view-in-github",
        "colab_type": "text"
      },
      "source": [
        "<a href=\"https://colab.research.google.com/github/SHodapp117/W207-Spring-2023/blob/main/SH_HW04_Logistic_Regression_with_Tensorflow.ipynb\" target=\"_parent\"><img src=\"https://colab.research.google.com/assets/colab-badge.svg\" alt=\"Open In Colab\"/></a>"
      ]
    },
    {
      "cell_type": "markdown",
      "metadata": {
        "id": "MKsRDH5ZUdfasdv"
      },
      "source": [
        "# Lab 4"
      ]
    },
    {
      "cell_type": "markdown",
      "metadata": {
        "id": "EPS2dZ87APTK"
      },
      "source": [
        "### <span style=\"color:chocolate\"> Submission requirements </span>\n",
        "\n",
        "Additional points may be deducted if these requirements are not met:\n",
        "    \n",
        "* Comment your code\n",
        "* Each graph should have a title, labels for each axis, and (if needed) a legend. Each graph should be understandable on its own\n",
        "* Be sure your submitted notebook includes the output of your run (Hint: go to Kernel -> Restart Kernel and Run All Cells...)\n",
        "* Try and minimize the use of the global namespace (meaning, keep things inside functions)\n",
        "* Upload your .ipynb file to Gradescope when done\n",
        "---"
      ]
    },
    {
      "cell_type": "markdown",
      "metadata": {
        "id": "43534tdfgs-v"
      },
      "source": [
        "In this lab we will train classifiers for images using [logistic regression](https://en.wikipedia.org/wiki/Logistic_regression) and Tensorflow."
      ]
    },
    {
      "cell_type": "code",
      "execution_count": 1,
      "metadata": {
        "id": "7X58hOMTUH-w"
      },
      "outputs": [],
      "source": [
        "# Import the libraries we'll use below.\n",
        "import numpy as np\n",
        "from matplotlib import pyplot as plt\n",
        "import pandas as pd\n",
        "import seaborn as sns  # for nicer plots\n",
        "sns.set(style=\"darkgrid\")  # default style\n",
        "\n",
        "import tensorflow as tf\n",
        "from tensorflow import keras\n",
        "from keras import metrics\n",
        "tf.get_logger().setLevel('INFO')"
      ]
    },
    {
      "cell_type": "markdown",
      "metadata": {
        "id": "rHLcriKWLRe4"
      },
      "source": [
        "## Understanding the data\n",
        "We'll train models on the [Fashion MNIST](https://github.com/zalandoresearch/fashion-mnist) dataset. This consists of 70,000 grayscale images (28x28). Each image is associated with 1 of 10 classes. The dataset was split by the creators; there are 60,000 training images and 10,000 test images.\n",
        "\n",
        "Fashion MNIST classes:\n",
        "* T-shirt/top\n",
        "* Trouser\n",
        "* Pullover\n",
        "* Dress\n",
        "* Coat\n",
        "* Sandal\n",
        "* Shirt\n",
        "* Sneaker\n",
        "* Bag\n",
        "* Ankle boot\n",
        "\n",
        "Before doing any training (or evaluating), let's make sure we understand what we're working with."
      ]
    },
    {
      "cell_type": "markdown",
      "metadata": {
        "id": "load_auto_data_set_text"
      },
      "source": [
        "### Load the data\n",
        "Tensorflow includes a growing [library of datasets](https://www.tensorflow.org/datasets/catalog/overview) and makes it easy to load them in numpy arrays."
      ]
    },
    {
      "cell_type": "code",
      "execution_count": 2,
      "metadata": {
        "id": "load_auto_data_set_code",
        "colab": {
          "base_uri": "https://localhost:8080/"
        },
        "outputId": "09b7b3d4-4044-4e22-c1d5-c3457277750f"
      },
      "outputs": [
        {
          "output_type": "stream",
          "name": "stdout",
          "text": [
            "Downloading data from https://storage.googleapis.com/tensorflow/tf-keras-datasets/train-labels-idx1-ubyte.gz\n",
            "29515/29515 [==============================] - 0s 0us/step\n",
            "Downloading data from https://storage.googleapis.com/tensorflow/tf-keras-datasets/train-images-idx3-ubyte.gz\n",
            "26421880/26421880 [==============================] - 0s 0us/step\n",
            "Downloading data from https://storage.googleapis.com/tensorflow/tf-keras-datasets/t10k-labels-idx1-ubyte.gz\n",
            "5148/5148 [==============================] - 0s 0us/step\n",
            "Downloading data from https://storage.googleapis.com/tensorflow/tf-keras-datasets/t10k-images-idx3-ubyte.gz\n",
            "4422102/4422102 [==============================] - 0s 0us/step\n"
          ]
        }
      ],
      "source": [
        "from keras.datasets import fashion_mnist\n",
        "\n",
        "# Load the Fashion MNIST dataset.\n",
        "(X_train, Y_train), (X_test, Y_test) = fashion_mnist.load_data()\n",
        "\n",
        "# Flatten Y_train and Y_test, so they become vectors of label values.\n",
        "# The label for X_train[0] is in Y_train[0].\n",
        "Y_train = Y_train.flatten()\n",
        "Y_test = Y_test.flatten()"
      ]
    },
    {
      "cell_type": "markdown",
      "metadata": {
        "id": "Eg9mUz9zcIil"
      },
      "source": [
        "### Basic Analysis\n",
        "Notice that `X_train`, `Y_train`, `X_test`, and `Y_test` are all numpy arrays. Let's print their shapes to confirm."
      ]
    },
    {
      "cell_type": "code",
      "execution_count": 3,
      "metadata": {
        "id": "H6jGmsYAdKEK",
        "colab": {
          "base_uri": "https://localhost:8080/"
        },
        "outputId": "fc6f07a5-b493-421e-9508-2e5dd5489490"
      },
      "outputs": [
        {
          "output_type": "stream",
          "name": "stdout",
          "text": [
            "X_train.shape: (60000, 28, 28)\n",
            "Y_train.shape: (60000,)\n",
            "X_test.shape: (10000, 28, 28)\n",
            "Y_test.shape: (10000,)\n"
          ]
        }
      ],
      "source": [
        "print(\"X_train.shape:\", X_train.shape)\n",
        "print(\"Y_train.shape:\", Y_train.shape)\n",
        "print(\"X_test.shape:\", X_test.shape)\n",
        "print(\"Y_test.shape:\", Y_test.shape)"
      ]
    },
    {
      "cell_type": "markdown",
      "metadata": {
        "id": "fDeim44-dler"
      },
      "source": [
        "Notice that there are 60,000 instances in `X_train`. Each of these is a grayscale image represented by an 28-by-28 array of grayscale pixel values between 0 and 255 (the larger the value, the lighter the pixel). Before we continue, let's apply linear scaling to our pixel values, so they all fall between 0 and 1."
      ]
    },
    {
      "cell_type": "code",
      "execution_count": 4,
      "metadata": {
        "id": "wXukkWBWdlGj"
      },
      "outputs": [],
      "source": [
        "# Pixel values range from 0 to 255. To normalize the data,\n",
        "# we just need to divide all values by 255.\n",
        "X_train = X_train / 255\n",
        "X_test = X_test / 255"
      ]
    },
    {
      "cell_type": "markdown",
      "metadata": {
        "id": "oWsOQ3tbCOA7"
      },
      "source": [
        "In the previous lab, our input data had just a few features. Here, we treat **every pixel value as a separate feature**, so each input example has 28x28 (784) features!\n",
        "\n",
        "Fashion MNIST images have one of 10 possible labels (shown above). Since the labels are indices 0-9, let's keep a list of (string) names for convenience."
      ]
    },
    {
      "cell_type": "code",
      "execution_count": 5,
      "metadata": {
        "id": "cZpFxxStzSrP"
      },
      "outputs": [],
      "source": [
        "label_names = ['t-shirt', 'trouser', 'pullover', 'dress', 'coat',\n",
        "               'sandal', 'shirt', 'sneaker', 'bag', 'ankle boot']"
      ]
    },
    {
      "cell_type": "markdown",
      "metadata": {
        "id": "c5aXeK2VznCW"
      },
      "source": [
        "Next let's use the `imshow` function to look at the first few images in the training set."
      ]
    },
    {
      "cell_type": "code",
      "execution_count": 6,
      "metadata": {
        "id": "7mfV9b4I7cMW",
        "colab": {
          "base_uri": "https://localhost:8080/",
          "height": 192
        },
        "outputId": "691c7e71-bf8e-4083-dd6f-dbb7bf06aa12"
      },
      "outputs": [
        {
          "output_type": "display_data",
          "data": {
            "text/plain": [
              "<Figure size 1000x500 with 5 Axes>"
            ],
            "image/png": "[encoded data removed]"
          },
          "metadata": {}
        }
      ],
      "source": [
        "# Create a figure with subplots. This returns a list of object handles in axs\n",
        "# which we can use to populate the plots.\n",
        "fig, axs = plt.subplots(nrows=1, ncols=5, figsize=(10,5))\n",
        "for i in range(5):\n",
        "  image = X_train[i]\n",
        "  label = Y_train[i]\n",
        "  label_name = label_names[label]\n",
        "  axs[i].imshow(image, cmap='gray')\n",
        "  axs[i].set_title(label_name)\n",
        "  axs[i].axis('off')\n",
        "plt.show()"
      ]
    },
    {
      "cell_type": "markdown",
      "metadata": {
        "id": "aFx7Ts3b6N6d"
      },
      "source": [
        "---\n",
        "### Exercise 1 (8 points)\n",
        "\n",
        "Display the first 5 images for each class in a 10x5 grid."
      ]
    },
    {
      "cell_type": "code",
      "execution_count": 7,
      "metadata": {
        "id": "HJtwrjdO6TbS",
        "colab": {
          "base_uri": "https://localhost:8080/",
          "height": 1000
        },
        "outputId": "77023ee3-fc73-4e88-b9ab-78009e2d8413"
      },
      "outputs": [
        {
          "output_type": "display_data",
          "data": {
            "text/plain": [
              "<Figure size 1000x1500 with 50 Axes>"
            ],
            "image/png": "[encoded data removed]"
          },
          "metadata": {}
        }
      ],
      "source": [
        "# Create a 10x5 grid for displaying the images --\n",
        "fig, axs = plt.subplots(nrows=10, ncols=5, figsize=(10, 15))\n",
        "for class_label in range(10):\n",
        "    class_indices = [i for i, label in enumerate(Y_train) if label == class_label][:5]\n",
        "    for i, image_index in enumerate(class_indices):\n",
        "        row = class_label\n",
        "        col = i\n",
        "        axs[row, col].imshow(X_train[image_index], cmap='gray')\n",
        "        axs[row, col].set_title(label_names[class_label])\n",
        "        axs[row, col].axis('off')\n",
        "\n",
        "plt.tight_layout()\n",
        "plt.show()\n",
        "plt.show()"
      ]
    },
    {
      "cell_type": "markdown",
      "metadata": {
        "id": "xxOhpvdW6TbX"
      },
      "source": [
        "---"
      ]
    },
    {
      "cell_type": "markdown",
      "metadata": {
        "id": "qNvSx5tybqMR"
      },
      "source": [
        "## Sneaker Classification\n",
        "There are many things we can do with this dataset. Following our lectures, let's start with binary classification. We'll train a sneaker classifier, using sneaker images (class 7) as our positive examples ($y=1$) and all other images as negative examples ($y=0$).\n",
        "\n",
        "Once we've trained a model, it will produce predictions $\\hat{y}$, the probability that an input image $x$ is a sneaker."
      ]
    },
    {
      "cell_type": "markdown",
      "metadata": {
        "id": "DvcJJ_rUifF2"
      },
      "source": [
        "### Data Preprocessing\n",
        "Before we continue, we need to prepare the data for our binary classification task. The label for all the sneaker images should be 1 and the label for all the non-sneaker images should be 0.\n",
        "\n",
        "Programming note: Numpy allows us to perform what is called [boolean array indexing](https://docs.scipy.org/doc/numpy/reference/arrays.indexing.html#boolean-array-indexing).\n",
        "This means that a numpy array $A$ can be be modified according to boolean conditions in a matching sized array $B$\n",
        "as follows: $A[B]$.\n",
        "We use this indexing to efficiently set our binary labels below."
      ]
    },
    {
      "cell_type": "code",
      "execution_count": 20,
      "metadata": {
        "id": "3webN4USifuB"
      },
      "outputs": [],
      "source": [
        "# Make copies of the original dataset for binary classification task.\n",
        "X_train_binary = np.copy(X_train)\n",
        "X_test_binary = np.copy(X_test)\n",
        "Y_train_binary = np.copy(Y_train)\n",
        "Y_test_binary = np.copy(Y_test)\n",
        "\n",
        "# Set labels: 1 for sneaker images, 0 for the others.\n",
        "# Note that a boolean array is created when Y_train_binary != 7 is evaluated.\n",
        "Y_train_binary[Y_train_binary != 7] = 0.0\n",
        "Y_train_binary[Y_train_binary == 7] = 1.0\n",
        "Y_test_binary[Y_test_binary != 7] = 0.0\n",
        "Y_test_binary[Y_test_binary == 7] = 1.0"
      ]
    },
    {
      "cell_type": "markdown",
      "metadata": {
        "id": "84idQ2_Mm8w-"
      },
      "source": [
        "---\n",
        "### Exercise 2 (8 points)"
      ]
    },
    {
      "cell_type": "markdown",
      "metadata": {
        "id": "Y7Vg88abAPTO"
      },
      "source": [
        "\n",
        "Before training any models, let's work some more with our raw feature values, comparing sneaker and non-sneaker images.\n",
        "\n",
        "1. Find all sneaker images in `X_train_binary` and compute the mean and standard deviation of the center pixel across all sneaker images. The center pixel is located at position [14, 14].\n",
        "\n",
        "2.   Find all non-sneaker images in `X_train_binary` and compute the mean and standard deviation of the center pixel  across all non-sneaker images. The center pixel is located at position [14, 14].\n",
        "\n",
        "3. Repeat 1 and 2 for the pixel located at positon [3, 14].\n",
        "\n",
        "4. Based on your results, do you think there is some evidence that suggests that we can use pixel values to discriminate between sneaker and non-sneaker images? Justify your answer."
      ]
    },
    {
      "cell_type": "code",
      "execution_count": 33,
      "metadata": {
        "id": "FblS-OVmns4a",
        "colab": {
          "base_uri": "https://localhost:8080/"
        },
        "outputId": "24f49d37-f4a0-47bf-ca16-367c83fbc237"
      },
      "outputs": [
        {
          "output_type": "stream",
          "name": "stdout",
          "text": [
            "Center Pixel [14, 14] - Sneaker Images\n",
            "Mean: 0.6279993464052288\n",
            "Standard Deviation: 0.2420192071490903\n",
            "\n",
            "Center Pixel [14, 14] - Non-Sneaker Images\n",
            "Mean: 0.5365848220769789\n",
            "Standard Deviation: 0.31489747339469804\n",
            "\n",
            "Center Pixel [3, 14] - Sneaker Images\n",
            "Mean: 0.6279993464052288\n",
            "Standard Deviation: 0.2420192071490903\n",
            "\n",
            "Center Pixel [3, 14] - Non-Sneaker Images\n",
            "Mean: 0.5365848220769789\n",
            "Standard Deviation: 0.31489747339469804\n"
          ]
        }
      ],
      "source": [
        "#1\n",
        "sneaker_images = X_train_binary[Y_train_binary == 1]  # Select sneaker images\n",
        "center_pixel_values_sneaker = sneaker_images[:, 14, 14]  # Extract center pixel values\n",
        "mean_center_pixel_sneaker = np.mean(center_pixel_values_sneaker)\n",
        "std_dev_center_pixel_sneaker = np.std(center_pixel_values_sneaker)\n",
        "\n",
        "#2\n",
        "non_sneaker_images = X_train_binary[Y_train_binary == 0]  # Select non-sneaker images\n",
        "center_pixel_values_non_sneaker = non_sneaker_images[:, 14, 14]  # Extract center pixel values\n",
        "mean_center_pixel_non_sneaker = np.mean(center_pixel_values_non_sneaker)\n",
        "std_dev_center_pixel_non_sneaker = np.std(center_pixel_values_non_sneaker)\n",
        "\n",
        "#3a\n",
        "pixel_sneaker_images = X_train_binary[Y_train_binary == 1]  # Select sneaker images\n",
        "pixal_center_pixel_values_sneaker = sneaker_images[:, 3, 14]  # Extract center pixel values\n",
        "pixal_mean_center_pixel_sneaker = np.mean(center_pixel_values_sneaker)\n",
        "pixal_std_dev_center_pixel_sneaker = np.std(center_pixel_values_sneaker)\n",
        "\n",
        "#3b\n",
        "pixal_non_sneaker_images = X_train_binary[Y_train_binary == 0]  # Select non-sneaker images\n",
        "pixal_center_pixel_values_non_sneaker = non_sneaker_images[:, 3, 14]  # Extract center pixel values\n",
        "pixal_mean_center_pixel_non_sneaker = np.mean(center_pixel_values_non_sneaker)\n",
        "pixal_std_dev_center_pixel_non_sneaker = np.std(center_pixel_values_non_sneaker)\n",
        "\n",
        "print(\"Center Pixel [14, 14] - Sneaker Images\")\n",
        "print(\"Mean:\", mean_center_pixel_sneaker)\n",
        "print(\"Standard Deviation:\", std_dev_center_pixel_sneaker)\n",
        "\n",
        "print(\"\\nCenter Pixel [14, 14] - Non-Sneaker Images\")\n",
        "print(\"Mean:\", mean_center_pixel_non_sneaker)\n",
        "print(\"Standard Deviation:\", std_dev_center_pixel_non_sneaker)\n",
        "\n",
        "\n",
        "print(\"\\nCenter Pixel [3, 14] - Sneaker Images\")\n",
        "print(\"Mean:\", pixal_mean_center_pixel_sneaker)\n",
        "print(\"Standard Deviation:\", pixal_std_dev_center_pixel_sneaker)\n",
        "\n",
        "\n",
        "print(\"\\nCenter Pixel [3, 14] - Non-Sneaker Images\")\n",
        "print(\"Mean:\", pixal_mean_center_pixel_non_sneaker)\n",
        "print(\"Standard Deviation:\", pixal_std_dev_center_pixel_non_sneaker)\n"
      ]
    },
    {
      "cell_type": "markdown",
      "metadata": {
        "id": "j9EH9D7Faf9n"
      },
      "source": [
        "*Written answer:*\n",
        "\n",
        "1. See code output above\n",
        "\n",
        "2. see code output above\n",
        "\n",
        "3. see code output above\n",
        "\n",
        "4. There is evidence that there is some diffrence betwwen sneaker and non-sneaker imgages, but as of what I know right now, I dont feel great about it and wouldnt stake my job chances on it. Pixal pattarns while important, dont feel addiquitely encapsulated by just mean and st dev. It feels like we are leaving realvent info unextracted from the data.  \n"
      ]
    },
    {
      "cell_type": "markdown",
      "metadata": {
        "id": "D35qqLaPd1jk"
      },
      "source": [
        "---"
      ]
    },
    {
      "cell_type": "markdown",
      "metadata": {
        "id": "br_TAXD7p5gQ"
      },
      "source": [
        "### Data Shuffling\n",
        "Just like in the previous lab, we'll be using SGD (Stochastic Gradient Descent) for training. This means that it is important that **each batch is a random sample of the data**.\n",
        "\n",
        "This time we can use [integer array indexing](https://numpy.org/doc/stable/reference/arrays.indexing.html#integer-array-indexing) to re-order the data and labels using a list of shuffled indices."
      ]
    },
    {
      "cell_type": "code",
      "execution_count": 10,
      "metadata": {
        "id": "sNryj_kGq8vV"
      },
      "outputs": [],
      "source": [
        "np.random.seed(0) # For reproducibility\n",
        "\n",
        "indices = np.arange(X_train_binary.shape[0])\n",
        "shuffled_indices = np.random.permutation(indices)\n",
        "\n",
        "# Re-order training examples and corresponding labels using the randomly\n",
        "# shuffled indices.\n",
        "X_train_binary = X_train_binary[shuffled_indices]\n",
        "Y_train_binary = Y_train_binary[shuffled_indices]"
      ]
    },
    {
      "cell_type": "markdown",
      "metadata": {
        "id": "E01QY9SRpwPE"
      },
      "source": [
        "## Logistic Regression\n",
        "\n",
        "Recall that logistic regression is an application of the logistic (sigmoid) function to the linear regression model:\n",
        "\n",
        "\\begin{equation}\n",
        "y=\\frac{1}{1+e^{-z}}\n",
        "\\end{equation}\n",
        "\n",
        "<center>\n",
        "<img src=\"https://developers.google.com/machine-learning/crash-course/images/SigmoidFunction.png\" alt=\"Sigmoid Function\" width=\"45%\"/>\n",
        "</center>\n",
        "\n",
        "where:\n",
        "\n",
        "\\begin{equation}\n",
        "z = b + w_1x_1 + w_2x_2 + ... + w_nx_n\n",
        "\\end{equation}\n",
        "\n",
        "As you can see, the output $y$ is in the range $[0,1]$, the probability of the positive class. If we want a label (instead of a probability), we need to choose a threshold, like $0.5$. A value above or equal to that threshold indicates that the input should be classified as positive (e.g., sneaker); a value below the threshold indicates that the input should be classified as negative (e.g. non-sneaker)."
      ]
    },
    {
      "cell_type": "markdown",
      "metadata": {
        "id": "PsfzNnVFwh0K"
      },
      "source": [
        "### Loss Function\n",
        "\n",
        "In place of MSE, which we used for linear regression, we need a loss function for logistic regression that's appropriate for classification. The *Log Loss* (also known as *binary cross-entropy*), is defined as follows:\n",
        "\n",
        "\\begin{equation}\n",
        "-\\frac{1}{|Y|} \\sum_{y_i \\in Y}y_i log(\\hat{y}_i) + (1−y_i)log(1−\\hat{y}_i)\n",
        "\\end{equation}\n",
        "\n",
        "Recall that $y_i$ is the label for example $i$ and $\\hat{y_i}$ is the predicted probability (of the positive class) for example $i$. Note that only the first term in the sum is active for positive examples (the second term is 0 when $y_i = 1$) and only the second term in the sum is active for negative examples (the first term is 0 when $y_i = 0$).\n",
        "\n",
        "The log loss is differentiable, allowing us to compute gradients and run SGD. It also happens to be convex, which guarantees that SGD (with a suitable learning rate) will produce a global minimum."
      ]
    },
    {
      "cell_type": "markdown",
      "metadata": {
        "id": "TGgQ-ASYiHbK"
      },
      "source": [
        "## Baseline\n",
        "\n",
        "When dealing with classification problems, a simple, but useful baseline is to select the *majority* class (the most common label in the training set) and use it as the prediction for all inputs.\n",
        "\n",
        "Our training dataset consists of 6,000 sneaker examples (10%), and 54,000 non-sneaker images (90%). So our majority class baseline classifies everything as *non-sneaker*. Notice that, for our particular dataset, this will yield an accuracy of 90%. Let's see if we can train a model that can beat the baseline."
      ]
    },
    {
      "cell_type": "code",
      "execution_count": 34,
      "metadata": {
        "id": "ls30LfwsIZCv",
        "colab": {
          "base_uri": "https://localhost:8080/"
        },
        "outputId": "b3860309-69d4-4703-c7d9-c98e9a3b01e4"
      },
      "outputs": [
        {
          "output_type": "stream",
          "name": "stdout",
          "text": [
            "Number of sneaker images in training set: 6000\n",
            "Number of non-sneaker images in training set: 54000\n"
          ]
        }
      ],
      "source": [
        "print(\"Number of sneaker images in training set: %d\"%(Y_train_binary == 1).sum())\n",
        "print(\"Number of non-sneaker images in training set: %d\"%(Y_train_binary == 0).sum())"
      ]
    },
    {
      "cell_type": "markdown",
      "metadata": {
        "id": "JXNj1z0IlDw_"
      },
      "source": [
        "---\n",
        "### Exercise 3 (8 points)\n",
        "\n",
        "Implement a function that computes the Log Loss (binary cross-entropy) metric and use it to evaluate our baseline on both the train and test data. Use 0.1 as the predicted probability for your baseline (reflecting what we know about the original distribution of classes in our dataset)."
      ]
    },
    {
      "cell_type": "code",
      "execution_count": 35,
      "metadata": {
        "id": "oFM62C3uhoq_",
        "colab": {
          "base_uri": "https://localhost:8080/"
        },
        "outputId": "61695d39-b934-4be5-87d9-955319b46acb"
      },
      "outputs": [
        {
          "output_type": "stream",
          "name": "stdout",
          "text": [
            "Log Loss on Train Data (Baseline): 3.453877639491069\n",
            "Log Loss on Test Data (Baseline): 3.453877639491069\n"
          ]
        }
      ],
      "source": [
        "def log_loss(Y_true, Y_pred):\n",
        "  \"\"\"Returns the binary log loss for a list of labels and predictions.\n",
        "\n",
        "  Args:\n",
        "    Y_true: A list of (true) labels (0 or 1)\n",
        "    Y_pred: A list of corresponding predicted probabilities\n",
        "\n",
        "  Returns:\n",
        "    Binary log loss\n",
        "  \"\"\"\n",
        "  epsilon = 1e-15  # Small constant to prevent division by zero\n",
        "  Y_pred = np.clip(Y_pred, epsilon, 1 - epsilon)  # Clip predicted probabilities to avoid extreme values\n",
        "  log_loss = - (Y_true * np.log(Y_pred) + (1 - Y_true) * np.log(1 - Y_pred))\n",
        "  return np.mean(log_loss)\n",
        "\n",
        "# Baseline predicted probability (given)\n",
        "baseline_prob = 0.1\n",
        "\n",
        "# Create arrays of labels for the train and test data\n",
        "train_predicted_probabilities = np.full_like(Y_train_binary, baseline_prob)\n",
        "test_predicted_probabilities = np.full_like(Y_test_binary, baseline_prob)\n",
        "\n",
        "# Calculate log loss for train and test data\n",
        "train_log_loss = log_loss(Y_train_binary, train_predicted_probabilities)\n",
        "test_log_loss = log_loss(Y_test_binary, test_predicted_probabilities)\n",
        "\n",
        "print(\"Log Loss on Train Data (Baseline):\", train_log_loss)\n",
        "print(\"Log Loss on Test Data (Baseline):\", test_log_loss)"
      ]
    },
    {
      "cell_type": "markdown",
      "metadata": {
        "id": "kZNKo4axhzY4"
      },
      "source": [
        "---"
      ]
    },
    {
      "cell_type": "markdown",
      "metadata": {
        "id": "35A7So50uc-3"
      },
      "source": [
        "## Build a model\n",
        "We will use Tensorflow/Keras to build our logistic regression model. This should look very similar to the models you built for linear regression but with a few key differences:\n",
        "* We use the Keras flatten layer to turn the 2-D 28x28 pixel grid inputs into 1-D vector inputs.\n",
        "* We configure our dense layer with a sigmoid activation, which applies a sigmoid function to the output of the linear mapping $xW^T$.\n",
        "* We specify binary_crossentropy as the loss (synonymous with log loss) when compiling the model."
      ]
    },
    {
      "cell_type": "code",
      "execution_count": 36,
      "metadata": {
        "id": "eaKF1dVEwsJq"
      },
      "outputs": [],
      "source": [
        "def build_model(learning_rate=0.01):\n",
        "  \"\"\"Build a TF logistic regression model using Keras.\n",
        "\n",
        "  Args:\n",
        "    learning_rate: The desired learning rate for SGD.\n",
        "\n",
        "  Returns:\n",
        "    model: A tf.keras model (graph).\n",
        "  \"\"\"\n",
        "  # This is not strictly necessary, but each time you build a model, TF adds\n",
        "  # new nodes (rather than overwriting), so the colab session can end up\n",
        "  # storing lots of copies of the graph when you only care about the most\n",
        "  # recent. Also, as there is some randomness built into training with SGD,\n",
        "  # setting a random seed ensures that results are the same on each identical\n",
        "  # training run.\n",
        "  tf.keras.backend.clear_session()\n",
        "  np.random.seed(0)\n",
        "  tf.random.set_seed(0)\n",
        "\n",
        "  # Build a model using keras.Sequential.\n",
        "  model = keras.Sequential()\n",
        "\n",
        "  # Keras layers can do pre-processing. This layer will take our 28x28 images\n",
        "  # and flatten them into vectors of size 784.\n",
        "  model.add(keras.layers.Flatten())\n",
        "\n",
        "  # This layer constructs the linear set of parameters for each input feature\n",
        "  # (as well as a bias), and applies a sigmoid to the result. The result is\n",
        "  # binary logistic regression.\n",
        "  model.add(keras.layers.Dense(\n",
        "      units=1,                     # output dim (for binary classification)\n",
        "      use_bias=True,               # use a bias param\n",
        "      activation=\"sigmoid\"         # apply the sigmoid function!\n",
        "  ))\n",
        "\n",
        "  # Use the SGD optimizer as usual.\n",
        "  optimizer = tf.keras.optimizers.SGD(learning_rate=learning_rate)\n",
        "\n",
        "  # We specify the binary_crossentropy loss (equivalent to log loss).\n",
        "  # Notice that we are including 'binary accuracy' as one of the metrics that we\n",
        "  # ask Tensorflow to report when evaluating the model.\n",
        "  model.compile(loss='binary_crossentropy',\n",
        "                optimizer=optimizer,\n",
        "                metrics=[metrics.binary_accuracy])\n",
        "\n",
        "  return model"
      ]
    },
    {
      "cell_type": "markdown",
      "metadata": {
        "id": "e9sNzLTFWliB"
      },
      "source": [
        "Let's make sure model building code works. Before training, the parameters of the model are initialized randomly (this is the default). While the untrained model won't make good predictions, we should still be able to pass data through it and get probability outputs."
      ]
    },
    {
      "cell_type": "code",
      "execution_count": 37,
      "metadata": {
        "id": "ZrpMK0XfX4-M",
        "colab": {
          "base_uri": "https://localhost:8080/"
        },
        "outputId": "e25ecad4-6798-42b2-facd-5d3f816359ef"
      },
      "outputs": [
        {
          "output_type": "stream",
          "name": "stdout",
          "text": [
            "1/1 [==============================] - 0s 129ms/step\n",
            "[[0.17996353]\n",
            " [0.4660256 ]\n",
            " [0.5097633 ]\n",
            " [0.383611  ]\n",
            " [0.4569287 ]]\n"
          ]
        }
      ],
      "source": [
        "# Build the model.\n",
        "model = build_model()\n",
        "\n",
        "# Make a prediction for five inputs.\n",
        "print(model.predict(X_train_binary[0:5]))"
      ]
    },
    {
      "cell_type": "markdown",
      "metadata": {
        "id": "ymQ3i8aRiCcO"
      },
      "source": [
        "As expected, the outputs look like probabilities (in [0,1]). Once the model is trained, we hope that these predictions correspond to the probability that each input image is a sneaker."
      ]
    },
    {
      "cell_type": "markdown",
      "metadata": {
        "id": "OUQDiYqCh2Ns"
      },
      "source": [
        "## Train a model\n",
        "Let's train the model. Note that we're using 10% of the training data as a *validation split*. This serves a similar purpose to our test data, allowing us to check for over-fitting during training. We don't use the test data here because we might run lots of experiments, and over time, we might adjust settings to improve results on the validation set. We want to preserve the purity of the test data to allow for the cleanest possible evaluation at the end of the experimentation process."
      ]
    },
    {
      "cell_type": "code",
      "execution_count": 38,
      "metadata": {
        "id": "KkUagTzxpWdr",
        "colab": {
          "base_uri": "https://localhost:8080/",
          "height": 380
        },
        "outputId": "1da6ada3-5429-4fb1-b42d-aafe0a1cb70e"
      },
      "outputs": [
        {
          "output_type": "stream",
          "name": "stdout",
          "text": [
            "Epoch 1/5\n",
            "844/844 [==============================] - 2s 2ms/step - loss: 0.1423 - binary_accuracy: 0.9438 - val_loss: 0.1078 - val_binary_accuracy: 0.9563\n",
            "Epoch 2/5\n",
            "844/844 [==============================] - 3s 3ms/step - loss: 0.1062 - binary_accuracy: 0.9581 - val_loss: 0.0954 - val_binary_accuracy: 0.9633\n",
            "Epoch 3/5\n",
            "844/844 [==============================] - 2s 2ms/step - loss: 0.0964 - binary_accuracy: 0.9637 - val_loss: 0.0877 - val_binary_accuracy: 0.9677\n",
            "Epoch 4/5\n",
            "844/844 [==============================] - 2s 2ms/step - loss: 0.0901 - binary_accuracy: 0.9668 - val_loss: 0.0826 - val_binary_accuracy: 0.9700\n",
            "Epoch 5/5\n",
            "844/844 [==============================] - 2s 2ms/step - loss: 0.0856 - binary_accuracy: 0.9686 - val_loss: 0.0788 - val_binary_accuracy: 0.9715\n"
          ]
        },
        {
          "output_type": "display_data",
          "data": {
            "text/plain": [
              "       loss  binary_accuracy  val_loss  val_binary_accuracy\n",
              "0  0.142250         0.943815  0.107769             0.956333\n",
              "1  0.106233         0.958148  0.095408             0.963333\n",
              "2  0.096450         0.963722  0.087711             0.967667\n",
              "3  0.090128         0.966815  0.082642             0.970000\n",
              "4  0.085625         0.968648  0.078805             0.971500"
            ],
            "text/html": [
              "\n",
              "  <div id=\"df-4e843e34-2afd-4932-9340-c77ccc450369\" class=\"colab-df-container\">\n",
              "    <div>\n",
              "<style scoped>\n",
              "    .dataframe tbody tr th:only-of-type {\n",
              "        vertical-align: middle;\n",
              "    }\n",
              "\n",
              "    .dataframe tbody tr th {\n",
              "        vertical-align: top;\n",
              "    }\n",
              "\n",
              "    .dataframe thead th {\n",
              "        text-align: right;\n",
              "    }\n",
              "</style>\n",
              "<table border=\"1\" class=\"dataframe\">\n",
              "  <thead>\n",
              "    <tr style=\"text-align: right;\">\n",
              "      <th></th>\n",
              "      <th>loss</th>\n",
              "      <th>binary_accuracy</th>\n",
              "      <th>val_loss</th>\n",
              "      <th>val_binary_accuracy</th>\n",
              "    </tr>\n",
              "  </thead>\n",
              "  <tbody>\n",
              "    <tr>\n",
              "      <th>0</th>\n",
              "      <td>0.142250</td>\n",
              "      <td>0.943815</td>\n",
              "      <td>0.107769</td>\n",
              "      <td>0.956333</td>\n",
              "    </tr>\n",
              "    <tr>\n",
              "      <th>1</th>\n",
              "      <td>0.106233</td>\n",
              "      <td>0.958148</td>\n",
              "      <td>0.095408</td>\n",
              "      <td>0.963333</td>\n",
              "    </tr>\n",
              "    <tr>\n",
              "      <th>2</th>\n",
              "      <td>0.096450</td>\n",
              "      <td>0.963722</td>\n",
              "      <td>0.087711</td>\n",
              "      <td>0.967667</td>\n",
              "    </tr>\n",
              "    <tr>\n",
              "      <th>3</th>\n",
              "      <td>0.090128</td>\n",
              "      <td>0.966815</td>\n",
              "      <td>0.082642</td>\n",
              "      <td>0.970000</td>\n",
              "    </tr>\n",
              "    <tr>\n",
              "      <th>4</th>\n",
              "      <td>0.085625</td>\n",
              "      <td>0.968648</td>\n",
              "      <td>0.078805</td>\n",
              "      <td>0.971500</td>\n",
              "    </tr>\n",
              "  </tbody>\n",
              "</table>\n",
              "</div>\n",
              "    <div class=\"colab-df-buttons\">\n",
              "\n",
              "  <div class=\"colab-df-container\">\n",
              "    <button class=\"colab-df-convert\" onclick=\"convertToInteractive('df-4e843e34-2afd-4932-9340-c77ccc450369')\"\n",
              "            title=\"Convert this dataframe to an interactive table.\"\n",
              "            style=\"display:none;\">\n",
              "\n",
              "  <svg xmlns=\"http://www.w3.org/2000/svg\" height=\"24px\" viewBox=\"0 -960 960 960\">\n",
              "    <path d=\"M120-120v-720h720v720H120Zm60-500h600v-160H180v160Zm220 220h160v-160H400v160Zm0 220h160v-160H400v160ZM180-400h160v-160H180v160Zm440 0h160v-160H620v160ZM180-180h160v-160H180v160Zm440 0h160v-160H620v160Z\"/>\n",
              "  </svg>\n",
              "    </button>\n",
              "\n",
              "  <style>\n",
              "    .colab-df-container {\n",
              "      display:flex;\n",
              "      gap: 12px;\n",
              "    }\n",
              "\n",
              "    .colab-df-convert {\n",
              "      background-color: #E8F0FE;\n",
              "      border: none;\n",
              "      border-radius: 50%;\n",
              "      cursor: pointer;\n",
              "      display: none;\n",
              "      fill: #1967D2;\n",
              "      height: 32px;\n",
              "      padding: 0 0 0 0;\n",
              "      width: 32px;\n",
              "    }\n",
              "\n",
              "    .colab-df-convert:hover {\n",
              "      background-color: #E2EBFA;\n",
              "      box-shadow: 0px 1px 2px rgba(60, 64, 67, 0.3), 0px 1px 3px 1px rgba(60, 64, 67, 0.15);\n",
              "      fill: #174EA6;\n",
              "    }\n",
              "\n",
              "    .colab-df-buttons div {\n",
              "      margin-bottom: 4px;\n",
              "    }\n",
              "\n",
              "    [theme=dark] .colab-df-convert {\n",
              "      background-color: #3B4455;\n",
              "      fill: #D2E3FC;\n",
              "    }\n",
              "\n",
              "    [theme=dark] .colab-df-convert:hover {\n",
              "      background-color: #434B5C;\n",
              "      box-shadow: 0px 1px 3px 1px rgba(0, 0, 0, 0.15);\n",
              "      filter: drop-shadow(0px 1px 2px rgba(0, 0, 0, 0.3));\n",
              "      fill: #FFFFFF;\n",
              "    }\n",
              "  </style>\n",
              "\n",
              "    <script>\n",
              "      const buttonEl =\n",
              "        document.querySelector('#df-4e843e34-2afd-4932-9340-c77ccc450369 button.colab-df-convert');\n",
              "      buttonEl.style.display =\n",
              "        google.colab.kernel.accessAllowed ? 'block' : 'none';\n",
              "\n",
              "      async function convertToInteractive(key) {\n",
              "        const element = document.querySelector('#df-4e843e34-2afd-4932-9340-c77ccc450369');\n",
              "        const dataTable =\n",
              "          await google.colab.kernel.invokeFunction('convertToInteractive',\n",
              "                                                    [key], {});\n",
              "        if (!dataTable) return;\n",
              "\n",
              "        const docLinkHtml = 'Like what you see? Visit the ' +\n",
              "          '<a target=\"_blank\" href=https://colab.research.google.com/notebooks/data_table.ipynb>data table notebook</a>'\n",
              "          + ' to learn more about interactive tables.';\n",
              "        element.innerHTML = '';\n",
              "        dataTable['output_type'] = 'display_data';\n",
              "        await google.colab.output.renderOutput(dataTable, element);\n",
              "        const docLink = document.createElement('div');\n",
              "        docLink.innerHTML = docLinkHtml;\n",
              "        element.appendChild(docLink);\n",
              "      }\n",
              "    </script>\n",
              "  </div>\n",
              "\n",
              "\n",
              "<div id=\"df-1a7a31be-5184-4cbb-a9bd-2c5bf2b1500e\">\n",
              "  <button class=\"colab-df-quickchart\" onclick=\"quickchart('df-1a7a31be-5184-4cbb-a9bd-2c5bf2b1500e')\"\n",
              "            title=\"Suggest charts.\"\n",
              "            style=\"display:none;\">\n",
              "\n",
              "<svg xmlns=\"http://www.w3.org/2000/svg\" height=\"24px\"viewBox=\"0 0 24 24\"\n",
              "     width=\"24px\">\n",
              "    <g>\n",
              "        <path d=\"M19 3H5c-1.1 0-2 .9-2 2v14c0 1.1.9 2 2 2h14c1.1 0 2-.9 2-2V5c0-1.1-.9-2-2-2zM9 17H7v-7h2v7zm4 0h-2V7h2v10zm4 0h-2v-4h2v4z\"/>\n",
              "    </g>\n",
              "</svg>\n",
              "  </button>\n",
              "\n",
              "<style>\n",
              "  .colab-df-quickchart {\n",
              "      --bg-color: #E8F0FE;\n",
              "      --fill-color: #1967D2;\n",
              "      --hover-bg-color: #E2EBFA;\n",
              "      --hover-fill-color: #174EA6;\n",
              "      --disabled-fill-color: #AAA;\n",
              "      --disabled-bg-color: #DDD;\n",
              "  }\n",
              "\n",
              "  [theme=dark] .colab-df-quickchart {\n",
              "      --bg-color: #3B4455;\n",
              "      --fill-color: #D2E3FC;\n",
              "      --hover-bg-color: #434B5C;\n",
              "      --hover-fill-color: #FFFFFF;\n",
              "      --disabled-bg-color: #3B4455;\n",
              "      --disabled-fill-color: #666;\n",
              "  }\n",
              "\n",
              "  .colab-df-quickchart {\n",
              "    background-color: var(--bg-color);\n",
              "    border: none;\n",
              "    border-radius: 50%;\n",
              "    cursor: pointer;\n",
              "    display: none;\n",
              "    fill: var(--fill-color);\n",
              "    height: 32px;\n",
              "    padding: 0;\n",
              "    width: 32px;\n",
              "  }\n",
              "\n",
              "  .colab-df-quickchart:hover {\n",
              "    background-color: var(--hover-bg-color);\n",
              "    box-shadow: 0 1px 2px rgba(60, 64, 67, 0.3), 0 1px 3px 1px rgba(60, 64, 67, 0.15);\n",
              "    fill: var(--button-hover-fill-color);\n",
              "  }\n",
              "\n",
              "  .colab-df-quickchart-complete:disabled,\n",
              "  .colab-df-quickchart-complete:disabled:hover {\n",
              "    background-color: var(--disabled-bg-color);\n",
              "    fill: var(--disabled-fill-color);\n",
              "    box-shadow: none;\n",
              "  }\n",
              "\n",
              "  .colab-df-spinner {\n",
              "    border: 2px solid var(--fill-color);\n",
              "    border-color: transparent;\n",
              "    border-bottom-color: var(--fill-color);\n",
              "    animation:\n",
              "      spin 1s steps(1) infinite;\n",
              "  }\n",
              "\n",
              "  @keyframes spin {\n",
              "    0% {\n",
              "      border-color: transparent;\n",
              "      border-bottom-color: var(--fill-color);\n",
              "      border-left-color: var(--fill-color);\n",
              "    }\n",
              "    20% {\n",
              "      border-color: transparent;\n",
              "      border-left-color: var(--fill-color);\n",
              "      border-top-color: var(--fill-color);\n",
              "    }\n",
              "    30% {\n",
              "      border-color: transparent;\n",
              "      border-left-color: var(--fill-color);\n",
              "      border-top-color: var(--fill-color);\n",
              "      border-right-color: var(--fill-color);\n",
              "    }\n",
              "    40% {\n",
              "      border-color: transparent;\n",
              "      border-right-color: var(--fill-color);\n",
              "      border-top-color: var(--fill-color);\n",
              "    }\n",
              "    60% {\n",
              "      border-color: transparent;\n",
              "      border-right-color: var(--fill-color);\n",
              "    }\n",
              "    80% {\n",
              "      border-color: transparent;\n",
              "      border-right-color: var(--fill-color);\n",
              "      border-bottom-color: var(--fill-color);\n",
              "    }\n",
              "    90% {\n",
              "      border-color: transparent;\n",
              "      border-bottom-color: var(--fill-color);\n",
              "    }\n",
              "  }\n",
              "</style>\n",
              "\n",
              "  <script>\n",
              "    async function quickchart(key) {\n",
              "      const quickchartButtonEl =\n",
              "        document.querySelector('#' + key + ' button');\n",
              "      quickchartButtonEl.disabled = true;  // To prevent multiple clicks.\n",
              "      quickchartButtonEl.classList.add('colab-df-spinner');\n",
              "      try {\n",
              "        const charts = await google.colab.kernel.invokeFunction(\n",
              "            'suggestCharts', [key], {});\n",
              "      } catch (error) {\n",
              "        console.error('Error during call to suggestCharts:', error);\n",
              "      }\n",
              "      quickchartButtonEl.classList.remove('colab-df-spinner');\n",
              "      quickchartButtonEl.classList.add('colab-df-quickchart-complete');\n",
              "    }\n",
              "    (() => {\n",
              "      let quickchartButtonEl =\n",
              "        document.querySelector('#df-1a7a31be-5184-4cbb-a9bd-2c5bf2b1500e button');\n",
              "      quickchartButtonEl.style.display =\n",
              "        google.colab.kernel.accessAllowed ? 'block' : 'none';\n",
              "    })();\n",
              "  </script>\n",
              "</div>\n",
              "    </div>\n",
              "  </div>\n"
            ]
          },
          "metadata": {}
        }
      ],
      "source": [
        "model = build_model(learning_rate=0.01)\n",
        "\n",
        "# Fit the model.\n",
        "history = model.fit(\n",
        "  x = X_train_binary,   # our binary training examples\n",
        "  y = Y_train_binary,   # corresponding binary labels\n",
        "  epochs=5,             # number of passes through the training data\n",
        "  batch_size=64,        # mini-batch size for SGD\n",
        "  validation_split=0.1, # use a fraction of the examples for validation\n",
        "  verbose=1             # display some progress output during training\n",
        "  )\n",
        "\n",
        "# Convert the return value into a DataFrame so we can see the train loss\n",
        "# and binary accuracy after every epoch.\n",
        "history = pd.DataFrame(history.history)\n",
        "display(history)"
      ]
    },
    {
      "cell_type": "markdown",
      "metadata": {
        "id": "eS8lOgCK-0At"
      },
      "source": [
        "## Evaluate the model\n",
        "\n",
        "Good news. It appears that our model is doing better than our baseline. Let's use the trained model to predict probabilities for the test data. We can use `predict` to run *inference*."
      ]
    },
    {
      "cell_type": "code",
      "execution_count": 39,
      "metadata": {
        "id": "t0PU3br4-zv8",
        "colab": {
          "base_uri": "https://localhost:8080/"
        },
        "outputId": "9ab3136d-383e-47ae-9635-749a6168fb49"
      },
      "outputs": [
        {
          "output_type": "stream",
          "name": "stdout",
          "text": [
            "313/313 [==============================] - 1s 2ms/step\n",
            "(10000,)\n",
            "[2.6500252e-01 2.0285692e-07 3.7880419e-04 ... 1.3482242e-03 2.9689725e-03\n",
            " 3.0476806e-01]\n"
          ]
        }
      ],
      "source": [
        "# The result of model.predict has an extra dimension, so we flatten to get a\n",
        "# vector of predictions. Note that these are the predicted probabilities of the\n",
        "# positive (sneaker) class.\n",
        "test_predictions = model.predict(X_test_binary).flatten()\n",
        "print(test_predictions.shape)\n",
        "print(test_predictions)"
      ]
    },
    {
      "cell_type": "markdown",
      "metadata": {
        "id": "LTdRTsyM2YvI"
      },
      "source": [
        "---\n",
        "### Exercise 4 (8 points)\n",
        "\n",
        "Compute the accuracy on the test data using a threshold of 0.5. Remember to use Y_test_binary for the true labels."
      ]
    },
    {
      "cell_type": "code",
      "execution_count": 17,
      "metadata": {
        "id": "B-o6Bdkl2gQT"
      },
      "outputs": [],
      "source": [
        "# YOUR CODE HERE"
      ]
    },
    {
      "cell_type": "markdown",
      "metadata": {
        "id": "LVEF6i092hfl"
      },
      "source": [
        "---"
      ]
    },
    {
      "cell_type": "markdown",
      "metadata": {
        "id": "tV_gTk-9YI3d"
      },
      "source": [
        "## Analyze the model\n",
        "\n",
        "Let's investigate what the model has learned. Recall how to get the learned weights from the model:"
      ]
    },
    {
      "cell_type": "code",
      "execution_count": 18,
      "metadata": {
        "id": "n9aw-V-FTlaq",
        "colab": {
          "base_uri": "https://localhost:8080/"
        },
        "outputId": "c66f1bd2-1ffa-4cf6-94fa-67cc7a38d83b"
      },
      "outputs": [
        {
          "output_type": "stream",
          "name": "stdout",
          "text": [
            "[<keras.src.layers.reshaping.flatten.Flatten object at 0x7b1344213eb0>, <keras.src.layers.core.dense.Dense object at 0x7b134458b1c0>]\n",
            "Bias: -0.45339933\n",
            "Weights shape: (784,)\n"
          ]
        }
      ],
      "source": [
        "# The model includes 2 layers: a flattening layer and a dense layer.\n",
        "print(model.layers)\n",
        "\n",
        "# Retrieve the weights and biases from the dense layer.\n",
        "weights, biases = model.layers[1].get_weights()\n",
        "bias = biases[0]  # there's only 1 bias\n",
        "weights = weights.flatten()  # flatten the weights to a vector\n",
        "print('Bias:', bias)\n",
        "print('Weights shape:', weights.shape)"
      ]
    },
    {
      "cell_type": "markdown",
      "metadata": {
        "id": "9gfq7t1naoTM"
      },
      "source": [
        "---\n",
        "### Exercise 5 (8 points)\n",
        "\n",
        "1. Using just the bias calculated in the model, compute the predicted probability (of the sneaker class) for an image of all 0-valued inputs.\n",
        "\n",
        "2. Construct a fake image with all 0s and use model.predict.\n",
        "\n",
        "3. Confirm if they agree"
      ]
    },
    {
      "cell_type": "code",
      "execution_count": 19,
      "metadata": {
        "id": "3d4NzODhbB8G"
      },
      "outputs": [],
      "source": [
        "# YOUR CODE HERE"
      ]
    },
    {
      "cell_type": "markdown",
      "metadata": {
        "id": "LsCGfuB1c_vs"
      },
      "source": [
        "---"
      ]
    }
  ],
  "metadata": {
    "colab": {
      "collapsed_sections": [
        "copyright",
        "LOcjWKAljbqr",
        "bCBT54r7k2YL",
        "loqjuOZFlEdt"
      ],
      "provenance": [],
      "include_colab_link": true
    },
    "kernelspec": {
      "display_name": "Python 3",
      "name": "python3"
    },
    "language_info": {
      "codemirror_mode": {
        "name": "ipython",
        "version": 3
      },
      "file_extension": ".py",
      "mimetype": "text/x-python",
      "name": "python",
      "nbconvert_exporter": "python",
      "pygments_lexer": "ipython3",
      "version": "3.8.3"
    }
  },
  "nbformat": 4,
  "nbformat_minor": 0
}